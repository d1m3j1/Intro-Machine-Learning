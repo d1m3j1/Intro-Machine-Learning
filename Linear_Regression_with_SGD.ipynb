{
  "nbformat": 4,
  "nbformat_minor": 0,
  "metadata": {
    "colab": {
      "name": "Linear Regression with SGD.ipynb",
      "provenance": [],
      "authorship_tag": "ABX9TyPDW/8vdww3To+6dhX1KWp+",
      "include_colab_link": true
    },
    "kernelspec": {
      "name": "python3",
      "display_name": "Python 3"
    },
    "language_info": {
      "name": "python"
    }
  },
  "cells": [
    {
      "cell_type": "markdown",
      "metadata": {
        "id": "view-in-github",
        "colab_type": "text"
      },
      "source": [
        "<a href=\"https://colab.research.google.com/github/d1m3j1/Machine-Learning/blob/main/Linear_Regression_with_SGD.ipynb\" target=\"_parent\"><img src=\"https://colab.research.google.com/assets/colab-badge.svg\" alt=\"Open In Colab\"/></a>"
      ]
    },
    {
      "cell_type": "code",
      "metadata": {
        "id": "2VpfJm4YRlBw"
      },
      "source": [
        "# Example of a Train-Test Test Harness\n",
        "from random import seed\n",
        "from random import randrange\n",
        "from csv import reader\n",
        "from math import sqrt"
      ],
      "execution_count": 26,
      "outputs": []
    },
    {
      "cell_type": "code",
      "metadata": {
        "id": "_C_tdPE2SGXZ"
      },
      "source": [
        "\n",
        "# Load a CSV file\n",
        "def load_csv(filename):\n",
        "    dataset = list()\n",
        "    with open(filename, 'r') as file:\n",
        "        csv_reader = reader(file)\n",
        "        for row in csv_reader:\n",
        "            if not row:\n",
        "                continue\n",
        "            dataset.append(row)\n",
        "    return dataset\n"
      ],
      "execution_count": 27,
      "outputs": []
    },
    {
      "cell_type": "code",
      "metadata": {
        "id": "wAK0d8jWSLTT"
      },
      "source": [
        "# Convert string column to float\n",
        "def str_column_to_float(dataset, column):\n",
        "    for row in dataset:\n",
        "        row[column] = float(row[column].strip())\n",
        "  \n",
        "  "
      ],
      "execution_count": 28,
      "outputs": []
    },
    {
      "cell_type": "code",
      "metadata": {
        "id": "OUd3iPGySRFA"
      },
      "source": [
        "# Find the min and max values for each column\n",
        "def dataset_minmax(dataset):\n",
        "    minmax = list()\n",
        "    for i in range(len(dataset[0])):\n",
        "        col_values = [row[i] for row in dataset]\n",
        "        value_min = min(col_values)\n",
        "        value_max = max(col_values)\n",
        "        minmax.append([value_min, value_max])\n",
        "    return minmax\n",
        "\n"
      ],
      "execution_count": 29,
      "outputs": []
    },
    {
      "cell_type": "code",
      "metadata": {
        "id": "Nn1Ko_7tSWt6"
      },
      "source": [
        "\n",
        "# Rescale dataset columns to the range 0-1\n",
        "def normalize_dataset(dataset, minmax):\n",
        "    for row in dataset:\n",
        "        for i in range(len(row)):\n",
        "            row[i] = (row[i] - minmax[i][0]) / (minmax[i][1] - minmax[i][0])\n",
        "\n"
      ],
      "execution_count": 30,
      "outputs": []
    },
    {
      "cell_type": "code",
      "metadata": {
        "id": "ooEz-qmBSZxW"
      },
      "source": [
        "# Split a dataset into k folds\n",
        "def cross_validation_split(dataset, n_folds):\n",
        "    dataset_split = list()\n",
        "    dataset_copy = list(dataset)\n",
        "    fold_size = int(len(dataset) / n_folds)\n",
        "    for i in range(int(n_folds)):\n",
        "        fold = list()\n",
        "        while len(fold) < fold_size:\n",
        "            index = randrange(len(dataset_copy))\n",
        "            fold.append(dataset_copy.pop(index))\n",
        "        dataset_split.append(fold)\n",
        "    return dataset_split\n",
        "\n"
      ],
      "execution_count": 31,
      "outputs": []
    },
    {
      "cell_type": "code",
      "metadata": {
        "id": "RXaXTSu5ScRa"
      },
      "source": [
        "# Calculate root mean squared error\n",
        "def rmse_metric(actual, predicted):\n",
        "    sum_error = 0.0\n",
        "    for i in range(len(actual)):\n",
        "        prediction_error = predicted[i] - actual[i]\n",
        "        sum_error += (prediction_error ** 2)\n",
        "    mean_error = sum_error / float(len(actual))\n",
        "    return sqrt(mean_error)\n",
        "\n"
      ],
      "execution_count": 32,
      "outputs": []
    },
    {
      "cell_type": "code",
      "metadata": {
        "id": "iuJmEuEDSfAN"
      },
      "source": [
        "# Evaluate an algorithm using a train/test split\n",
        "def evaluate_algorithm(dataset, algorithm, n_folds, *args):\n",
        "    folds = cross_validation_split(dataset, n_folds)\n",
        "    scores = list()\n",
        "    for fold in folds:\n",
        "        train_set = list(folds)\n",
        "        train_set.remove(fold)\n",
        "        train_set = sum(train_set, [])\n",
        "        test_set = list()\n",
        "        for row in fold:\n",
        "            row_copy = list(row)\n",
        "            test_set.append(row_copy)\n",
        "            row_copy[-1] = None\n",
        "        predicted = algorithm(train_set, test_set, *args)\n",
        "        actual = [row[-1] for row in fold]\n",
        "        rmse = rmse_metric(actual, predicted)\n",
        "        scores.append(rmse)\n",
        "    return scores\n",
        "\n",
        "\n"
      ],
      "execution_count": 33,
      "outputs": []
    },
    {
      "cell_type": "code",
      "metadata": {
        "id": "giRwwvT2SsUa"
      },
      "source": [
        "# Make a prediction with coefficients\n",
        "def predict(row, coefficients):\n",
        "    yhat = coefficients[0]\n",
        "    for i in range(len(row)-1):\n",
        "        yhat += coefficients[i + 1] * row[i]\n",
        "    return yhat\n",
        "\n",
        "        \n"
      ],
      "execution_count": 34,
      "outputs": []
    },
    {
      "cell_type": "code",
      "metadata": {
        "id": "9yaRgdlMSuXj"
      },
      "source": [
        "# Estimate linear regression coefficients using stochastic gradient descent\n",
        "def coefficients_sgd(train, l_rate, n_epoch):\n",
        "    coef = [0.0 for i in range(len(train[0]))]\n",
        "    for _ in range(n_epoch):\n",
        "        for row in train:\n",
        "            yhat = predict(row, coef)\n",
        "            error = yhat - row[-1]\n",
        "            coef[0] = coef[0] - l_rate * error\n",
        "            for i in range(len(row)-1): \n",
        "                coef[i + 1] = coef[i + 1] - l_rate * error * row[i]\n",
        "    return coef\n",
        "\n",
        "\n"
      ],
      "execution_count": 35,
      "outputs": []
    },
    {
      "cell_type": "code",
      "metadata": {
        "id": "3Le-WQLDSyjW"
      },
      "source": [
        "# Linear Regression Algorithm With Stochastic Gradient Descent\n",
        "def linear_regression_sgd(train, test, l_rate, n_epoch):\n",
        "    predictions = list()\n",
        "    coef = coefficients_sgd(train, l_rate, n_epoch)\n",
        "    for row in test:\n",
        "        yhat = predict(row, coef)\n",
        "        predictions.append(yhat)\n",
        "    return(predictions)\n"
      ],
      "execution_count": 36,
      "outputs": []
    },
    {
      "cell_type": "code",
      "metadata": {
        "colab": {
          "base_uri": "https://localhost:8080/"
        },
        "id": "xe535xwzTCx5",
        "outputId": "25b37419-a1e5-44e5-9d0c-cdfc599d1871"
      },
      "source": [
        "seed(1)\n",
        "# load and prepare data\n",
        "filename = 'wineQualityData.csv'\n",
        "dataset = load_csv(filename)\n",
        "for i in range(len(dataset[0])):\n",
        "    str_column_to_float(dataset, i)\n",
        "# normalize\n",
        "minmax = dataset_minmax(dataset)\n",
        "normalize_dataset(dataset, minmax)\n",
        "# evaluate algorithm\n",
        "n_folds = 10\n",
        "l_rate = 0.001\n",
        "n_epoch = 50\n",
        "scores = evaluate_algorithm(dataset, linear_regression_sgd, n_folds, l_rate, n_epoch)\n",
        "print('Scores: %s' % scores)\n",
        "print('Mean RMSE: %.3f' % (sum(scores)/float(len(scores))))"
      ],
      "execution_count": 37,
      "outputs": [
        {
          "output_type": "stream",
          "text": [
            "Scores: [0.12326163727981408, 0.12155897510755692, 0.11998004296638327, 0.12974730126367992, 0.12211967438132455, 0.12274525145588393, 0.12231061790164065, 0.12315419413395218, 0.12509357270556118, 0.12429477406741407]\n",
            "Mean RMSE: 0.123\n"
          ],
          "name": "stdout"
        }
      ]
    },
    {
      "cell_type": "code",
      "metadata": {
        "id": "rU18AJyFTCnr"
      },
      "source": [
        ""
      ],
      "execution_count": 37,
      "outputs": []
    }
  ]
}