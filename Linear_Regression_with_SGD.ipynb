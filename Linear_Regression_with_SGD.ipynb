{
  "nbformat": 4,
  "nbformat_minor": 0,
  "metadata": {
    "colab": {
      "name": "Linear Regression with SGD.ipynb",
      "provenance": [],
      "authorship_tag": "ABX9TyMynS5FUEbMij3qVN8O1jdt",
      "include_colab_link": true
    },
    "kernelspec": {
      "name": "python3",
      "display_name": "Python 3"
    },
    "language_info": {
      "name": "python"
    }
  },
  "cells": [
    {
      "cell_type": "markdown",
      "metadata": {
        "id": "view-in-github",
        "colab_type": "text"
      },
      "source": [
        "<a href=\"https://colab.research.google.com/github/d1m3j1/Machine-Learning/blob/main/Linear_Regression_with_SGD.ipynb\" target=\"_parent\"><img src=\"https://colab.research.google.com/assets/colab-badge.svg\" alt=\"Open In Colab\"/></a>"
      ]
    },
    {
      "cell_type": "code",
      "metadata": {
        "id": "2VpfJm4YRlBw"
      },
      "source": [
        "# Example of a Train-Test Test Harness\n",
        "from random import seed\n",
        "from random import randrange\n",
        "from csv import reader\n",
        "from math import sqrt"
      ],
      "execution_count": 13,
      "outputs": []
    },
    {
      "cell_type": "code",
      "metadata": {
        "id": "_C_tdPE2SGXZ"
      },
      "source": [
        "\n",
        "# Load a CSV file\n",
        "def load_csv(filename):\n",
        "    dataset = list()\n",
        "    with open(filename, 'r') as file:\n",
        "        csv_reader = reader(file)\n",
        "        for row in csv_reader:\n",
        "            if not row:\n",
        "                continue\n",
        "            dataset.append(row)\n",
        "    return dataset\n"
      ],
      "execution_count": 14,
      "outputs": []
    },
    {
      "cell_type": "code",
      "metadata": {
        "id": "wAK0d8jWSLTT"
      },
      "source": [
        "# Convert string column to float\n",
        "def str_column_to_float(dataset, column):\n",
        "    for row in dataset:\n",
        "        row[column] = float(row[column].strip())\n",
        "  \n",
        "  "
      ],
      "execution_count": 15,
      "outputs": []
    },
    {
      "cell_type": "code",
      "metadata": {
        "id": "OUd3iPGySRFA"
      },
      "source": [
        "# Find the min and max values for each column\n",
        "def dataset_minmax(dataset):\n",
        "    minmax = list()\n",
        "    for i in range(len(dataset[0])):\n",
        "        col_values = [row[i] for row in dataset]\n",
        "        value_min = min(col_values)\n",
        "        value_max = max(col_values)\n",
        "        minmax.append([value_min, value_max])\n",
        "    return minmax\n",
        "\n"
      ],
      "execution_count": 16,
      "outputs": []
    },
    {
      "cell_type": "code",
      "metadata": {
        "id": "Nn1Ko_7tSWt6"
      },
      "source": [
        "\n",
        "# Rescale dataset columns to the range 0-1\n",
        "def normalize_dataset(dataset, minmax):\n",
        "    for row in dataset:\n",
        "        for i in range(len(row)):\n",
        "            row[i] = (row[i] - minmax[i][0]) / (minmax[i][1] - minmax[i][0])\n",
        "\n"
      ],
      "execution_count": 17,
      "outputs": []
    },
    {
      "cell_type": "code",
      "metadata": {
        "id": "ooEz-qmBSZxW"
      },
      "source": [
        "# Split a dataset into k folds\n",
        "def cross_validation_split(dataset, n_folds):\n",
        "    dataset_split = list()\n",
        "    dataset_copy = list(dataset)\n",
        "    fold_size = int(len(dataset) / n_folds)\n",
        "    for i in range(int(n_folds)):\n",
        "        fold = list()\n",
        "        while len(fold) < fold_size:\n",
        "            index = randrange(len(dataset_copy))\n",
        "            fold.append(dataset_copy.pop(index))\n",
        "        dataset_split.append(fold)\n",
        "    return dataset_split\n",
        "\n"
      ],
      "execution_count": 18,
      "outputs": []
    },
    {
      "cell_type": "code",
      "metadata": {
        "id": "RXaXTSu5ScRa"
      },
      "source": [
        "# Calculate root mean squared error\n",
        "def rmse_metric(actual, predicted):\n",
        "    sum_error = 0.0\n",
        "    for i in range(len(actual)):\n",
        "        prediction_error = predicted[i] - actual[i]\n",
        "        sum_error += (prediction_error ** 2)\n",
        "    mean_error = sum_error / float(len(actual))\n",
        "    return sqrt(mean_error)\n",
        "\n"
      ],
      "execution_count": 19,
      "outputs": []
    },
    {
      "cell_type": "code",
      "metadata": {
        "id": "iuJmEuEDSfAN"
      },
      "source": [
        "# Evaluate an algorithm using a train/test split\n",
        "def evaluate_algorithm(dataset, algorithm, n_folds, *args):\n",
        "    folds = cross_validation_split(dataset, n_folds)\n",
        "    scores = list()\n",
        "    for fold in folds:\n",
        "        train_set = list(folds)\n",
        "        train_set.remove(fold)\n",
        "        train_set = sum(train_set, [])\n",
        "        test_set = list()\n",
        "        for row in fold:\n",
        "            row_copy = list(row)\n",
        "            test_set.append(row_copy)\n",
        "            row_copy[-1] = None\n",
        "        predicted = algorithm(train_set, test_set, *args)\n",
        "        actual = [row[-1] for row in fold]\n",
        "        rmse = rmse_metric(actual, predicted)\n",
        "        scores.append(rmse)\n",
        "    return scores\n",
        "\n",
        "\n"
      ],
      "execution_count": 20,
      "outputs": []
    },
    {
      "cell_type": "code",
      "metadata": {
        "id": "giRwwvT2SsUa"
      },
      "source": [
        "# Make a prediction with coefficients\n",
        "def predict(row, coefficients):\n",
        "    yhat = coefficients[0]\n",
        "    for i in range(len(row)-1):\n",
        "        yhat += coefficients[i + 1] * row[i]\n",
        "    return yhat\n",
        "\n",
        "        \n"
      ],
      "execution_count": 21,
      "outputs": []
    },
    {
      "cell_type": "code",
      "metadata": {
        "id": "9yaRgdlMSuXj"
      },
      "source": [
        "# Estimate linear regression coefficients using stochastic gradient descent\n",
        "def coefficients_sgd(train, l_rate, n_epoch):\n",
        "    coef = [0.0 for i in range(len(train[0]))]\n",
        "    for _ in range(n_epoch):\n",
        "        for row in train:\n",
        "            yhat = predict(row, coef)\n",
        "            error = yhat - row[-1]\n",
        "            coef[0] = coef[0] - l_rate * error\n",
        "            for i in range(len(row)-1): \n",
        "                coef[i + 1] = coef[i + 1] - l_rate * error * row[i]\n",
        "    print(coef)  \n",
        "    return coef\n",
        "\n",
        "\n"
      ],
      "execution_count": 22,
      "outputs": []
    },
    {
      "cell_type": "code",
      "metadata": {
        "id": "3Le-WQLDSyjW"
      },
      "source": [
        "# Linear Regression Algorithm With Stochastic Gradient Descent\n",
        "def linear_regression_sgd(train, test, l_rate, n_epoch):\n",
        "    predictions = list()\n",
        "    coef = coefficients_sgd(train, l_rate, n_epoch)\n",
        "    for row in test:\n",
        "        yhat = predict(row, coef)\n",
        "        predictions.append(yhat)\n",
        "    return(predictions)\n"
      ],
      "execution_count": 23,
      "outputs": []
    },
    {
      "cell_type": "code",
      "metadata": {
        "colab": {
          "base_uri": "https://localhost:8080/"
        },
        "id": "xe535xwzTCx5",
        "outputId": "e3d08f51-069e-46e2-8aea-75846a1ff9ff"
      },
      "source": [
        "seed(1)\n",
        "# load and prepare data\n",
        "filename = 'wineQualityData.csv'\n",
        "dataset = load_csv(filename)\n",
        "for i in range(len(dataset[0])):\n",
        "    str_column_to_float(dataset, i)\n",
        "# normalize\n",
        "minmax = dataset_minmax(dataset)\n",
        "normalize_dataset(dataset, minmax)\n",
        "# evaluate algorithm\n",
        "n_folds = 10\n",
        "l_rate = 0.001\n",
        "n_epoch = 50\n",
        "scores = evaluate_algorithm(dataset, linear_regression_sgd, n_folds, l_rate, n_epoch)\n",
        "print('Scores: %s' % scores)\n",
        "print('Mean RMSE: %.3f' % (sum(scores)/float(len(scores))))"
      ],
      "execution_count": 24,
      "outputs": [
        {
          "output_type": "stream",
          "text": [
            "[0.3291773261336548, 0.020839422049727937, -0.3085206302038366, 0.026240769698064888, 0.16019487149816633, -0.06333091455152685, 0.12168674890101895, -0.0671919257432176, -0.003469800274182276, 0.046117850319115965, 0.14382724989985654, 0.3794246755633594]\n",
            "[0.32881299826746657, 0.011571454650751201, -0.311093709319755, 0.028151971636303532, 0.14887098900077145, -0.05938568004380806, 0.1302226726913123, -0.05718731371002893, -0.007390648146691016, 0.044657254565102236, 0.15070814413234718, 0.3798866247041621]\n",
            "[0.3246762737357739, 0.015987569567351062, -0.31526289426507326, 0.03652626988344421, 0.15804397928773864, -0.05551485650196283, 0.12159826846902572, -0.05799258198616639, -0.004966200180362066, 0.05260805696152286, 0.13978438801257362, 0.38135359845095707]\n",
            "[0.3258193984436971, 0.02454026481725514, -0.3108265168817948, 0.026241589182899712, 0.152874407516737, -0.0709954283874715, 0.1220294317308766, -0.05815560364473801, -0.009211454592793942, 0.0484981142768662, 0.14475625716805707, 0.38304066293523786]\n",
            "[0.3243318053326845, 0.019232384465464138, -0.30339101588106354, 0.028148622775091562, 0.15570889540711738, -0.06459397421245325, 0.11568929218134537, -0.048744864686734155, -0.004463937861716905, 0.043726885245368614, 0.15171718067541032, 0.37975325075696154]\n",
            "[0.32222391448947624, 0.023317435542367662, -0.31053997390917376, 0.026148617227497995, 0.146240366049792, -0.0535164070188225, 0.13827150214363082, -0.048455168898713576, -0.003923380437516024, 0.04599076265242391, 0.1435495529263629, 0.38128502925253815]\n",
            "[0.3201385304604624, 0.01705441062188869, -0.3024162473618924, 0.029643460072367164, 0.15556370374308548, -0.05984289230626725, 0.12463051447155166, -0.05260747214583937, -0.0029636212649632562, 0.047369629185308335, 0.14908449287396067, 0.3873328025755686]\n",
            "[0.3272790099056206, 0.013781466055179542, -0.3103194930039394, 0.026911872711728218, 0.15327004569521874, -0.056961468665226965, 0.13465758256763447, -0.06146617803028239, -0.004676141197460456, 0.046341806807675696, 0.15410394904442293, 0.37755625732308723]\n",
            "[0.33340742487372316, 0.023708183062528587, -0.30877449373614585, 0.018619680413077405, 0.15609959389368722, -0.05919090045280115, 0.11275830781103115, -0.05164880097471105, -0.006990263724282888, 0.03995495439970096, 0.12794138414952133, 0.375670231970924]\n",
            "[0.3305209605339464, 0.02111484235447074, -0.3120179816786033, 0.03268981952374504, 0.1473882462364525, -0.0515004063998831, 0.11681699352697822, -0.05563292823590325, -0.007959462252006933, 0.04949373426061334, 0.15050829841264593, 0.37392139468292895]\n",
            "Scores: [0.12326163727981408, 0.12155897510755692, 0.11998004296638327, 0.12974730126367992, 0.12211967438132455, 0.12274525145588393, 0.12231061790164065, 0.12315419413395218, 0.12509357270556118, 0.12429477406741407]\n",
            "Mean RMSE: 0.123\n"
          ],
          "name": "stdout"
        }
      ]
    },
    {
      "cell_type": "code",
      "metadata": {
        "id": "rU18AJyFTCnr"
      },
      "source": [
        ""
      ],
      "execution_count": 24,
      "outputs": []
    }
  ]
}