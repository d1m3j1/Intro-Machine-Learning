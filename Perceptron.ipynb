{
  "nbformat": 4,
  "nbformat_minor": 0,
  "metadata": {
    "colab": {
      "name": "Perceptron.ipynb",
      "provenance": [],
      "authorship_tag": "ABX9TyPvptDhOkX4JMaEduRXfYqK",
      "include_colab_link": true
    },
    "kernelspec": {
      "name": "python3",
      "display_name": "Python 3"
    },
    "language_info": {
      "name": "python"
    }
  },
  "cells": [
    {
      "cell_type": "markdown",
      "metadata": {
        "id": "view-in-github",
        "colab_type": "text"
      },
      "source": [
        "<a href=\"https://colab.research.google.com/github/d1m3j1/Machine-Learning/blob/main/Perceptron.ipynb\" target=\"_parent\"><img src=\"https://colab.research.google.com/assets/colab-badge.svg\" alt=\"Open In Colab\"/></a>"
      ]
    },
    {
      "cell_type": "markdown",
      "metadata": {
        "id": "I_y5UY98Zl4z"
      },
      "source": [
        "## PERCEPTRON WITH K FOLD ON SONAR DATASET\n",
        "\n",
        "\n",
        "\n",
        "\n",
        "\n",
        "\n"
      ]
    },
    {
      "cell_type": "code",
      "metadata": {
        "colab": {
          "base_uri": "https://localhost:8080/"
        },
        "id": "MMsDs3DPYpWm",
        "outputId": "74939a68-fac6-444a-d8fe-70e32612a0cc"
      },
      "source": [
        "\n",
        "from random import seed\n",
        "from random import randrange\n",
        "from csv import reader\n",
        "from math import sqrt\n",
        "\n",
        "\n",
        "# Load a CSV file\n",
        "def load_csv(filename):\n",
        "    dataset = list()\n",
        "    with open(filename, 'r') as file:\n",
        "        csv_reader = reader(file)\n",
        "        for row in csv_reader:\n",
        "            if not row:\n",
        "                continue\n",
        "            dataset.append(row)\n",
        "    return dataset\n",
        "\n",
        "\n",
        "# Convert string column to float\n",
        "def str_column_to_float(dataset, column):\n",
        "    for row in dataset:\n",
        "        row[column] = float(row[column].strip())\n",
        "\n",
        "# Convert string column to integer\n",
        "def str_column_to_int(dataset, column):\n",
        "    class_values = [row[column] for row in dataset]\n",
        "    unique = set(class_values)\n",
        "    lookup = dict()\n",
        "    for i, value in enumerate(unique):\n",
        "        lookup[value] = i\n",
        "    for row in dataset:\n",
        "        row[column] = lookup[row[column]]\n",
        "    return lookup\n",
        "\n",
        "# Split a dataset into k folds\n",
        "def cross_validation_split(dataset, n_folds):\n",
        "    dataset_split = list()\n",
        "    dataset_copy = list(dataset)\n",
        "    fold_size = int(len(dataset) / n_folds)\n",
        "    for i in range(int(n_folds)):\n",
        "        fold = list()\n",
        "        while len(fold) < fold_size:\n",
        "            index = randrange(len(dataset_copy))\n",
        "            fold.append(dataset_copy.pop(index))\n",
        "        dataset_split.append(fold)\n",
        "    return dataset_split\n",
        "\n",
        "\n",
        "# Calculate accuracy percentage\n",
        "def accuracy_metric(actual, predicted):\n",
        "    correct = 0\n",
        "    for i in range(len(actual)):\n",
        "        if actual[i] == predicted[i]:\n",
        "            correct += 1\n",
        "    return correct / float(len(actual)) * 100.0\n",
        "\n",
        "# Evaluate an algorithm using a train/test split\n",
        "def evaluate_algorithm(dataset, algorithm, n_folds, *args):\n",
        "    folds = cross_validation_split(dataset, n_folds)\n",
        "    scores = list()\n",
        "    for fold in folds:\n",
        "        train_set = list(folds)\n",
        "        train_set.remove(fold)\n",
        "        train_set = sum(train_set, [])\n",
        "        test_set = list()\n",
        "        for row in fold:\n",
        "            row_copy = list(row)\n",
        "            test_set.append(row_copy)\n",
        "            row_copy[-1] = None\n",
        "        predicted = algorithm(train_set, test_set, *args)\n",
        "        actual = [row[-1] for row in fold]\n",
        "        accuracy = accuracy_metric(actual, predicted)\n",
        "        scores.append(accuracy)\n",
        "    return scores\n",
        "\n",
        "\n",
        "\n",
        "\n",
        "# Make a prediction with weights\n",
        "def predict(row, weights):\n",
        "    activation = weights[0]\n",
        "    for i in range(len(row)-1):\n",
        "        activation += weights[i + 1] * row[i]\n",
        "    # print(1.0 if activation >= 0.0 else 0.0)\n",
        "    return 1.0 if activation >= 0.0 else 0.0\n",
        "\n",
        "\n",
        "# Estimate Perceptron weights using stochastic gradient descent\n",
        "def train_weights(train, l_rate, n_epoch):\n",
        "    weights = [0.0 for i in range(len(train[0]))]\n",
        "    for _ in range(n_epoch):\n",
        "        for row in train:\n",
        "            prediction = predict(row, weights)\n",
        "            error = row[-1] - prediction\n",
        "            weights[0] = weights[0] + l_rate * error\n",
        "            for i in range(len(row)-1):\n",
        "                weights[i + 1] = weights[i + 1] + l_rate * error * row[i]\n",
        "    return weights\n",
        "\n",
        "# Perceptron Algorithm With Stochastic Gradient Descent\n",
        "def perceptron(train, test, l_rate, n_epoch):\n",
        "    predictions = list()\n",
        "    weights = train_weights(train, l_rate, n_epoch)\n",
        "    for row in test:\n",
        "        prediction = predict(row, weights)\n",
        "        predictions.append(prediction)\n",
        "    return(predictions)\n",
        "\n",
        "\n",
        "seed(1)\n",
        "# load and prepare data\n",
        "filename = 'sonar.all-data.csv'\n",
        "dataset = load_csv(filename)\n",
        "for i in range(len(dataset[0])-1):\n",
        "    str_column_to_float(dataset, i)\n",
        "# convert string class to integers\n",
        "str_column_to_int(dataset, len(dataset[0])-1)\n",
        "# evaluate algorithm\n",
        "n_folds = 3\n",
        "l_rate = 0.01\n",
        "n_epoch = 500\n",
        "scores = evaluate_algorithm(dataset, perceptron, n_folds, l_rate, n_epoch)\n",
        "print('Scores: %s' % scores)\n",
        "print('Mean Accuracy: %.3f%%' % (sum(scores)/float(len(scores))))"
      ],
      "execution_count": 2,
      "outputs": [
        {
          "output_type": "stream",
          "text": [
            "Scores: [76.81159420289855, 69.56521739130434, 72.46376811594203]\n",
            "Mean Accuracy: 72.947%\n"
          ],
          "name": "stdout"
        }
      ]
    }
  ]
}