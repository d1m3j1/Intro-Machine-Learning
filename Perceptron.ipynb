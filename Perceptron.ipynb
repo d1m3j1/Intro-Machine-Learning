{
  "nbformat": 4,
  "nbformat_minor": 0,
  "metadata": {
    "colab": {
      "name": "Perceptron.ipynb",
      "provenance": [],
      "authorship_tag": "ABX9TyNfHjS5Jz+iGK6NsluV3iYz",
      "include_colab_link": true
    },
    "kernelspec": {
      "name": "python3",
      "display_name": "Python 3"
    },
    "language_info": {
      "name": "python"
    }
  },
  "cells": [
    {
      "cell_type": "markdown",
      "metadata": {
        "id": "view-in-github",
        "colab_type": "text"
      },
      "source": [
        "<a href=\"https://colab.research.google.com/github/d1m3j1/Machine-Learning/blob/main/Perceptron.ipynb\" target=\"_parent\"><img src=\"https://colab.research.google.com/assets/colab-badge.svg\" alt=\"Open In Colab\"/></a>"
      ]
    },
    {
      "cell_type": "markdown",
      "metadata": {
        "id": "I_y5UY98Zl4z"
      },
      "source": [
        "## PERCEPTRON WITH K FOLD ON SONAR DATASET\n",
        "\n",
        "\n",
        "\n",
        "\n",
        "\n",
        "\n"
      ]
    },
    {
      "cell_type": "code",
      "metadata": {
        "colab": {
          "base_uri": "https://localhost:8080/"
        },
        "id": "MMsDs3DPYpWm",
        "outputId": "65e74f98-02bb-4d1f-d05c-c72c074f5339"
      },
      "source": [
        "\n",
        "from random import seed\n",
        "from random import randrange\n",
        "from csv import reader\n",
        "from math import sqrt\n",
        "\n",
        "\n",
        "# Load a CSV file\n",
        "def load_csv(filename):\n",
        "    dataset = list()\n",
        "    with open(filename, 'r') as file:\n",
        "        csv_reader = reader(file)\n",
        "        for row in csv_reader:\n",
        "            if not row:\n",
        "                continue\n",
        "            dataset.append(row)\n",
        "    return dataset\n",
        "\n",
        "\n",
        "# Convert string column to float\n",
        "def str_column_to_float(dataset, column):\n",
        "    for row in dataset:\n",
        "        row[column] = float(row[column].strip())\n",
        "\n",
        "# Convert string column to integer\n",
        "def str_column_to_int(dataset, column):\n",
        "    class_values = [row[column] for row in dataset]\n",
        "    unique = set(class_values)\n",
        "    lookup = dict()\n",
        "    for i, value in enumerate(unique):\n",
        "        lookup[value] = i\n",
        "    for row in dataset:\n",
        "        row[column] = lookup[row[column]]\n",
        "    return lookup\n",
        "\n",
        "# Split a dataset into k folds\n",
        "def cross_validation_split(dataset, n_folds):\n",
        "    dataset_split = list()\n",
        "    dataset_copy = list(dataset)\n",
        "    fold_size = int(len(dataset) / n_folds)\n",
        "    for i in range(int(n_folds)):\n",
        "        fold = list()\n",
        "        while len(fold) < fold_size:\n",
        "            index = randrange(len(dataset_copy))\n",
        "            fold.append(dataset_copy.pop(index))\n",
        "        dataset_split.append(fold)\n",
        "    return dataset_split\n",
        "\n",
        "\n",
        "# Calculate accuracy percentage\n",
        "def accuracy_metric(actual, predicted):\n",
        "    correct = 0\n",
        "    for i in range(len(actual)):\n",
        "        if actual[i] == predicted[i]:\n",
        "            correct += 1\n",
        "    return correct / float(len(actual)) * 100.0\n",
        "\n",
        "# Evaluate an algorithm using a train/test split\n",
        "def evaluate_algorithm(dataset, algorithm, n_folds, *args):\n",
        "    folds = cross_validation_split(dataset, n_folds)\n",
        "    scores = list()\n",
        "    for fold in folds:\n",
        "        train_set = list(folds)\n",
        "        train_set.remove(fold)\n",
        "        train_set = sum(train_set, [])\n",
        "        test_set = list()\n",
        "        for row in fold:\n",
        "            row_copy = list(row)\n",
        "            test_set.append(row_copy)\n",
        "            row_copy[-1] = None\n",
        "        predicted = algorithm(train_set, test_set, *args)\n",
        "        actual = [row[-1] for row in fold]\n",
        "        accuracy = accuracy_metric(actual, predicted)\n",
        "        scores.append(accuracy)\n",
        "    return scores\n",
        "\n",
        "\n",
        "\n",
        "\n",
        "# Make a prediction with weights\n",
        "def predict(row, weights):\n",
        "    activation = weights[0]\n",
        "    for i in range(len(row)-1):\n",
        "        activation += weights[i + 1] * row[i]\n",
        "    # print(1.0 if activation >= 0.0 else 0.0)\n",
        "    return 1.0 if activation >= 0.0 else 0.0\n",
        "\n",
        "\n",
        "# Estimate Perceptron weights using stochastic gradient descent\n",
        "def train_weights(train, l_rate, n_epoch):\n",
        "    weights = [0.0 for i in range(len(train[0]))]\n",
        "    for _ in range(n_epoch):\n",
        "        for row in train:\n",
        "            prediction = predict(row, weights)\n",
        "            error = row[-1] - prediction\n",
        "            weights[0] = weights[0] + l_rate * error\n",
        "            for i in range(len(row)-1):\n",
        "                weights[i + 1] = weights[i + 1] + l_rate * error * row[i]\n",
        "    print(weights)\n",
        "    return weights\n",
        "\n",
        "# Perceptron Algorithm With Stochastic Gradient Descent\n",
        "def perceptron(train, test, l_rate, n_epoch):\n",
        "    predictions = list()\n",
        "    weights = train_weights(train, l_rate, n_epoch)\n",
        "    for row in test:\n",
        "        prediction = predict(row, weights)\n",
        "        predictions.append(prediction)\n",
        "    return(predictions)\n",
        "\n",
        "\n",
        "seed(1)\n",
        "# load and prepare data\n",
        "filename = 'sonar.all-data.csv'\n",
        "dataset = load_csv(filename)\n",
        "for i in range(len(dataset[0])-1):\n",
        "    str_column_to_float(dataset, i)\n",
        "# convert string class to integers\n",
        "str_column_to_int(dataset, len(dataset[0])-1)\n",
        "# evaluate algorithm\n",
        "n_folds = 3\n",
        "l_rate = 0.01\n",
        "n_epoch = 500\n",
        "scores = evaluate_algorithm(dataset, perceptron, n_folds, l_rate, n_epoch)\n",
        "print('Scores: %s' % scores)\n",
        "print('Mean Accuracy: %.3f%%' % (sum(scores)/float(len(scores))))"
      ],
      "execution_count": 1,
      "outputs": [
        {
          "output_type": "stream",
          "text": [
            "[0.25000000000000006, -0.11280000000000304, 0.07063099999999443, 0.23248300000000008, -0.1665049999999993, -0.3711169999999872, -0.13997299999999818, 0.5180659999999895, 0.2175420000000174, -0.19012800000000088, 0.13911500000000424, -0.3014660000000073, -0.27194900000000255, 0.07921700000000562, -0.022846000000002052, 0.011594000000000593, 0.07691600000000091, -0.07120900000000048, 0.21688399999999805, -0.16337000000000712, -0.025387999999999834, -0.010814000000000752, -0.1525810000000022, 0.28617999999999505, -0.7707729999999908, 0.3560189999999914, 0.0850289999999978, -0.1994050000000112, 0.25431899999999247, -0.028801999999999037, -0.3310039999999734, 0.5871260000000009, -0.28441400000000133, -0.04040400000000007, 0.348320000000017, -0.31161800000000267, 0.37180300000001637, 0.19089600000000198, -0.1985139999999993, -0.17064699999999158, 0.0944840000000008, 0.11130999999999884, -0.18252800000000116, 0.193298999999994, -0.6273459999999982, -0.05782600000000315, -0.13974599999999732, -0.06283700000000815, -0.7239239999999962, -0.23949199999999823, 0.22413699999998973, -0.22770399999998564, -0.02080900000000149, -0.10881399999999908, -0.26763999999999655, 0.14146100000000378, 0.014366000000000424, 0.1091500000000021, -0.000919000000000416, -0.0867919999999991, -0.04886800000000259]\n",
            "[0.5900000000000003, -0.25664800000001226, -0.11699200000000033, -0.09744200000000616, 0.06064799999999878, -0.07621800000000259, -0.20015999999999753, 0.4368020000000034, 0.2756820000000043, -0.3673979999999973, -0.0982600000000032, -0.441965999999984, -0.14475199999999927, -0.19524699999999354, 0.3479270000000142, -0.2155589999999962, 0.007926999999998905, 0.4308760000000136, -0.3305119999999955, -0.000374999999999865, -0.3666440000000209, 0.23553899999999414, -0.32263299999999606, 0.12167800000000255, -0.05645000000000033, -0.4707899999999773, 0.3351530000000001, 0.008750999999997613, 0.01749199999999919, -0.0821910000000057, -0.2146329999999879, 0.3672259999999691, -0.2141830000000104, -0.21398299999999928, 0.6252690000000026, -0.49511299999997843, 0.2344379999999998, 0.3146000000000014, -0.3694389999999795, -0.06874799999999986, 0.1122849999999994, -0.09058499999999849, 0.002920000000001332, -0.38195000000001467, 0.12236899999999566, 0.13235199999999764, 0.12442000000000034, -0.5271550000000035, -0.27823899999999924, -0.15882100000000196, 0.1701620000000015, -0.13159099999999802, -0.1291499999999952, -0.10722999999999858, -0.03541699999999869, 0.1640100000000027, -0.010379999999999969, 0.09001000000000224, 0.0007970000000003067, -0.057090000000002354, -0.020991999999998907]\n",
            "[0.26000000000000006, -0.10077400000000102, -0.14589100000000157, 0.3475290000000112, -0.6772260000000023, -0.15556299999998954, -0.2576299999999959, 0.045043999999998925, 0.5838859999999984, -0.07774499999999816, 0.26486799999999455, -0.43735100000000543, -0.43572600000000083, -0.11543300000000138, -0.005097000000000905, -0.23188700000000456, 0.31820800000000016, 0.047780999999999504, -0.20275199999999807, 0.3629559999999787, 0.17487999999999654, -0.4398710000000113, 0.12961300000000128, -0.12499699999999835, -0.23164400000000446, 0.326244000000005, -0.24314300000000014, 0.16223000000000343, 0.02098399999999935, 0.09170299999999693, -0.4620119999999986, 0.5623299999999818, -0.33173099999998906, -0.03307399999999864, 0.10626799999999978, -0.12628100000000295, 0.13475899999999438, 0.17046100000000625, 0.015435999999999223, -0.18975299999998585, 0.35658399999999596, -0.2355859999999938, 0.1602550000000026, 0.11840400000000222, -0.03229399999999919, -0.4076180000000214, -0.20881599999998957, 0.06301900000000224, -0.553699999999998, -0.47574899999996395, 0.04818099999999813, -0.1484689999999977, -0.11565499999999551, -0.012477000000000205, -0.04672499999999732, -0.04106700000000113, 0.044639000000000505, -0.01821399999999953, -0.1407269999999943, -0.07813700000000073, -0.09817800000000099]\n",
            "Scores: [76.81159420289855, 69.56521739130434, 72.46376811594203]\n",
            "Mean Accuracy: 72.947%\n"
          ],
          "name": "stdout"
        }
      ]
    }
  ]
}